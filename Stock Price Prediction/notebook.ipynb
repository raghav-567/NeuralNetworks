{
 "cells": [
  {
   "cell_type": "code",
   "execution_count": 50,
   "id": "697ccf2f",
   "metadata": {},
   "outputs": [],
   "source": [
    "import torch\n",
    "import torch.nn as nn\n",
    "import pandas as pd\n",
    "import matplotlib.pyplot as plt\n",
    "import yfinance as yf\n",
    "import numpy as np"
   ]
  },
  {
   "cell_type": "code",
   "execution_count": 51,
   "id": "670e296c",
   "metadata": {},
   "outputs": [
    {
     "name": "stderr",
     "output_type": "stream",
     "text": [
      "/var/folders/wq/n2q2m9w17lg_p99b5c2yc2dm0000gn/T/ipykernel_82146/2214729564.py:1: FutureWarning: YF.download() has changed argument auto_adjust default to True\n",
      "  data = yf.download('AAPL',interval='1D',period='5y')\n",
      "[*********************100%***********************]  1 of 1 completed\n"
     ]
    },
    {
     "data": {
      "text/html": [
       "<div>\n",
       "<style scoped>\n",
       "    .dataframe tbody tr th:only-of-type {\n",
       "        vertical-align: middle;\n",
       "    }\n",
       "\n",
       "    .dataframe tbody tr th {\n",
       "        vertical-align: top;\n",
       "    }\n",
       "\n",
       "    .dataframe thead tr th {\n",
       "        text-align: left;\n",
       "    }\n",
       "\n",
       "    .dataframe thead tr:last-of-type th {\n",
       "        text-align: right;\n",
       "    }\n",
       "</style>\n",
       "<table border=\"1\" class=\"dataframe\">\n",
       "  <thead>\n",
       "    <tr>\n",
       "      <th>Price</th>\n",
       "      <th>Close</th>\n",
       "      <th>High</th>\n",
       "      <th>Low</th>\n",
       "      <th>Open</th>\n",
       "      <th>Volume</th>\n",
       "    </tr>\n",
       "    <tr>\n",
       "      <th>Ticker</th>\n",
       "      <th>AAPL</th>\n",
       "      <th>AAPL</th>\n",
       "      <th>AAPL</th>\n",
       "      <th>AAPL</th>\n",
       "      <th>AAPL</th>\n",
       "    </tr>\n",
       "    <tr>\n",
       "      <th>Date</th>\n",
       "      <th></th>\n",
       "      <th></th>\n",
       "      <th></th>\n",
       "      <th></th>\n",
       "      <th></th>\n",
       "    </tr>\n",
       "  </thead>\n",
       "  <tbody>\n",
       "    <tr>\n",
       "      <th>2020-07-29</th>\n",
       "      <td>92.385460</td>\n",
       "      <td>92.570155</td>\n",
       "      <td>91.095039</td>\n",
       "      <td>91.131490</td>\n",
       "      <td>90329200</td>\n",
       "    </tr>\n",
       "    <tr>\n",
       "      <th>2020-07-30</th>\n",
       "      <td>93.503326</td>\n",
       "      <td>93.607822</td>\n",
       "      <td>91.148488</td>\n",
       "      <td>91.556756</td>\n",
       "      <td>158130000</td>\n",
       "    </tr>\n",
       "    <tr>\n",
       "      <th>2020-07-31</th>\n",
       "      <td>103.292053</td>\n",
       "      <td>103.442723</td>\n",
       "      <td>98.008853</td>\n",
       "      <td>100.011320</td>\n",
       "      <td>374336800</td>\n",
       "    </tr>\n",
       "    <tr>\n",
       "      <th>2020-08-03</th>\n",
       "      <td>105.894775</td>\n",
       "      <td>108.519359</td>\n",
       "      <td>104.878965</td>\n",
       "      <td>105.177871</td>\n",
       "      <td>308151200</td>\n",
       "    </tr>\n",
       "    <tr>\n",
       "      <th>2020-08-04</th>\n",
       "      <td>106.601936</td>\n",
       "      <td>107.695514</td>\n",
       "      <td>105.360114</td>\n",
       "      <td>106.084308</td>\n",
       "      <td>173071600</td>\n",
       "    </tr>\n",
       "  </tbody>\n",
       "</table>\n",
       "</div>"
      ],
      "text/plain": [
       "Price            Close        High         Low        Open     Volume\n",
       "Ticker            AAPL        AAPL        AAPL        AAPL       AAPL\n",
       "Date                                                                 \n",
       "2020-07-29   92.385460   92.570155   91.095039   91.131490   90329200\n",
       "2020-07-30   93.503326   93.607822   91.148488   91.556756  158130000\n",
       "2020-07-31  103.292053  103.442723   98.008853  100.011320  374336800\n",
       "2020-08-03  105.894775  108.519359  104.878965  105.177871  308151200\n",
       "2020-08-04  106.601936  107.695514  105.360114  106.084308  173071600"
      ]
     },
     "execution_count": 51,
     "metadata": {},
     "output_type": "execute_result"
    }
   ],
   "source": [
    "data = yf.download('AAPL',interval='1D',period='5y')\n",
    "data.head(5)"
   ]
  },
  {
   "cell_type": "code",
   "execution_count": 52,
   "id": "2fbf5803",
   "metadata": {},
   "outputs": [
    {
     "data": {
      "text/html": [
       "<div>\n",
       "<style scoped>\n",
       "    .dataframe tbody tr th:only-of-type {\n",
       "        vertical-align: middle;\n",
       "    }\n",
       "\n",
       "    .dataframe tbody tr th {\n",
       "        vertical-align: top;\n",
       "    }\n",
       "\n",
       "    .dataframe thead th {\n",
       "        text-align: right;\n",
       "    }\n",
       "</style>\n",
       "<table border=\"1\" class=\"dataframe\">\n",
       "  <thead>\n",
       "    <tr style=\"text-align: right;\">\n",
       "      <th>Ticker</th>\n",
       "      <th>AAPL</th>\n",
       "    </tr>\n",
       "    <tr>\n",
       "      <th>Date</th>\n",
       "      <th></th>\n",
       "    </tr>\n",
       "  </thead>\n",
       "  <tbody>\n",
       "    <tr>\n",
       "      <th>2020-07-29</th>\n",
       "      <td>92.385460</td>\n",
       "    </tr>\n",
       "    <tr>\n",
       "      <th>2020-07-30</th>\n",
       "      <td>93.503326</td>\n",
       "    </tr>\n",
       "    <tr>\n",
       "      <th>2020-07-31</th>\n",
       "      <td>103.292053</td>\n",
       "    </tr>\n",
       "    <tr>\n",
       "      <th>2020-08-03</th>\n",
       "      <td>105.894775</td>\n",
       "    </tr>\n",
       "    <tr>\n",
       "      <th>2020-08-04</th>\n",
       "      <td>106.601936</td>\n",
       "    </tr>\n",
       "  </tbody>\n",
       "</table>\n",
       "</div>"
      ],
      "text/plain": [
       "Ticker            AAPL\n",
       "Date                  \n",
       "2020-07-29   92.385460\n",
       "2020-07-30   93.503326\n",
       "2020-07-31  103.292053\n",
       "2020-08-03  105.894775\n",
       "2020-08-04  106.601936"
      ]
     },
     "execution_count": 52,
     "metadata": {},
     "output_type": "execute_result"
    }
   ],
   "source": [
    "Data = data['Close']\n",
    "Data.head(5)"
   ]
  },
  {
   "cell_type": "code",
   "execution_count": 53,
   "id": "66f93d3e",
   "metadata": {},
   "outputs": [
    {
     "data": {
      "text/plain": [
       "[<matplotlib.lines.Line2D at 0x16a944d60>]"
      ]
     },
     "execution_count": 53,
     "metadata": {},
     "output_type": "execute_result"
    },
    {
     "data": {
      "image/png": "[encoded data removed]",
      "text/plain": [
       "<Figure size 640x480 with 1 Axes>"
      ]
     },
     "metadata": {},
     "output_type": "display_data"
    }
   ],
   "source": [
    "plt.plot(Data)"
   ]
  },
  {
   "cell_type": "code",
   "execution_count": 54,
   "id": "90d1ab3b",
   "metadata": {},
   "outputs": [
    {
     "data": {
      "text/plain": [
       "Ticker\n",
       "AAPL    0\n",
       "dtype: int64"
      ]
     },
     "execution_count": 54,
     "metadata": {},
     "output_type": "execute_result"
    }
   ],
   "source": [
    "Data.isnull().sum()"
   ]
  },
  {
   "cell_type": "code",
   "execution_count": 55,
   "id": "68352183",
   "metadata": {},
   "outputs": [
    {
     "data": {
      "text/html": [
       "<div>\n",
       "<style scoped>\n",
       "    .dataframe tbody tr th:only-of-type {\n",
       "        vertical-align: middle;\n",
       "    }\n",
       "\n",
       "    .dataframe tbody tr th {\n",
       "        vertical-align: top;\n",
       "    }\n",
       "\n",
       "    .dataframe thead th {\n",
       "        text-align: right;\n",
       "    }\n",
       "</style>\n",
       "<table border=\"1\" class=\"dataframe\">\n",
       "  <thead>\n",
       "    <tr style=\"text-align: right;\">\n",
       "      <th>Ticker</th>\n",
       "      <th>AAPL</th>\n",
       "    </tr>\n",
       "  </thead>\n",
       "  <tbody>\n",
       "    <tr>\n",
       "      <th>0</th>\n",
       "      <td>92.385460</td>\n",
       "    </tr>\n",
       "    <tr>\n",
       "      <th>1</th>\n",
       "      <td>93.503326</td>\n",
       "    </tr>\n",
       "    <tr>\n",
       "      <th>2</th>\n",
       "      <td>103.292053</td>\n",
       "    </tr>\n",
       "    <tr>\n",
       "      <th>3</th>\n",
       "      <td>105.894775</td>\n",
       "    </tr>\n",
       "    <tr>\n",
       "      <th>4</th>\n",
       "      <td>106.601936</td>\n",
       "    </tr>\n",
       "    <tr>\n",
       "      <th>...</th>\n",
       "      <td>...</td>\n",
       "    </tr>\n",
       "    <tr>\n",
       "      <th>1250</th>\n",
       "      <td>214.399994</td>\n",
       "    </tr>\n",
       "    <tr>\n",
       "      <th>1251</th>\n",
       "      <td>214.149994</td>\n",
       "    </tr>\n",
       "    <tr>\n",
       "      <th>1252</th>\n",
       "      <td>213.759995</td>\n",
       "    </tr>\n",
       "    <tr>\n",
       "      <th>1253</th>\n",
       "      <td>213.880005</td>\n",
       "    </tr>\n",
       "    <tr>\n",
       "      <th>1254</th>\n",
       "      <td>214.050003</td>\n",
       "    </tr>\n",
       "  </tbody>\n",
       "</table>\n",
       "<p>1255 rows × 1 columns</p>\n",
       "</div>"
      ],
      "text/plain": [
       "Ticker        AAPL\n",
       "0        92.385460\n",
       "1        93.503326\n",
       "2       103.292053\n",
       "3       105.894775\n",
       "4       106.601936\n",
       "...            ...\n",
       "1250    214.399994\n",
       "1251    214.149994\n",
       "1252    213.759995\n",
       "1253    213.880005\n",
       "1254    214.050003\n",
       "\n",
       "[1255 rows x 1 columns]"
      ]
     },
     "execution_count": 55,
     "metadata": {},
     "output_type": "execute_result"
    }
   ],
   "source": [
    "Data = data.reset_index()['Close']\n",
    "Data"
   ]
  },
  {
   "cell_type": "code",
   "execution_count": 56,
   "id": "6142e93e",
   "metadata": {},
   "outputs": [
    {
     "data": {
      "text/plain": [
       "array([[0.        ],\n",
       "       [0.00673368],\n",
       "       [0.06569793],\n",
       "       ...,\n",
       "       [0.73112253],\n",
       "       [0.73184544],\n",
       "       [0.73286945]], shape=(1255, 1))"
      ]
     },
     "execution_count": 56,
     "metadata": {},
     "output_type": "execute_result"
    }
   ],
   "source": [
    "from sklearn.preprocessing import MinMaxScaler\n",
    "scaler = MinMaxScaler(feature_range=(0,1))\n",
    "Data_scaled = scaler.fit_transform(np.array(Data).reshape(-1, 1))\n",
    "Data_scaled\n"
   ]
  },
  {
   "cell_type": "code",
   "execution_count": 57,
   "id": "3b8fb90a",
   "metadata": {},
   "outputs": [],
   "source": [
    "Data_scaled = torch.tensor(Data_scaled, dtype=torch.float32)\n"
   ]
  },
  {
   "cell_type": "code",
   "execution_count": 58,
   "id": "edce1ba0",
   "metadata": {},
   "outputs": [
    {
     "name": "stdout",
     "output_type": "stream",
     "text": [
      "torch.Size([815, 1]) torch.Size([440, 1])\n"
     ]
    }
   ],
   "source": [
    "train_size = (int)(len(Data_scaled) * 0.65)\n",
    "train_data = Data_scaled[:train_size]\n",
    "test_data = Data_scaled[train_size:len(Data_scaled)]\n",
    "print(train_data.shape,test_data.shape)"
   ]
  },
  {
   "cell_type": "code",
   "execution_count": 59,
   "id": "356f978d",
   "metadata": {},
   "outputs": [],
   "source": [
    "def split(dataset,block_size):\n",
    "    X_data = []\n",
    "    Y_data = []\n",
    "    for i in range(len(dataset)-block_size):\n",
    "        a = dataset[i:i+block_size]\n",
    "        X_data.append(a)\n",
    "        Y_data.append(dataset[i+block_size])\n",
    "    return torch.stack(X_data),torch.stack(Y_data)"
   ]
  },
  {
   "cell_type": "code",
   "execution_count": 60,
   "id": "6e036c41",
   "metadata": {},
   "outputs": [
    {
     "data": {
      "text/plain": [
       "(torch.Size([715, 100, 1]), torch.Size([715, 1]))"
      ]
     },
     "execution_count": 60,
     "metadata": {},
     "output_type": "execute_result"
    }
   ],
   "source": [
    "block_size = 100\n",
    "X_train,Y_train = split(train_data,block_size)\n",
    "X_test,Y_test = split(test_data,block_size)\n",
    "X_train.shape,Y_train.shape"
   ]
  },
  {
   "cell_type": "code",
   "execution_count": 61,
   "id": "700613d8",
   "metadata": {},
   "outputs": [
    {
     "name": "stderr",
     "output_type": "stream",
     "text": [
      "/var/folders/wq/n2q2m9w17lg_p99b5c2yc2dm0000gn/T/ipykernel_82146/4150544819.py:1: UserWarning: To copy construct from a tensor, it is recommended to use sourceTensor.detach().clone() or sourceTensor.detach().clone().requires_grad_(True), rather than torch.tensor(sourceTensor).\n",
      "  X_train = torch.tensor(X_train, dtype=torch.float32)\n",
      "/var/folders/wq/n2q2m9w17lg_p99b5c2yc2dm0000gn/T/ipykernel_82146/4150544819.py:2: UserWarning: To copy construct from a tensor, it is recommended to use sourceTensor.detach().clone() or sourceTensor.detach().clone().requires_grad_(True), rather than torch.tensor(sourceTensor).\n",
      "  Y_train = torch.tensor(Y_train, dtype=torch.float32).view(-1, 1)\n",
      "/var/folders/wq/n2q2m9w17lg_p99b5c2yc2dm0000gn/T/ipykernel_82146/4150544819.py:3: UserWarning: To copy construct from a tensor, it is recommended to use sourceTensor.detach().clone() or sourceTensor.detach().clone().requires_grad_(True), rather than torch.tensor(sourceTensor).\n",
      "  X_test = torch.tensor(X_test, dtype=torch.float32)\n",
      "/var/folders/wq/n2q2m9w17lg_p99b5c2yc2dm0000gn/T/ipykernel_82146/4150544819.py:4: UserWarning: To copy construct from a tensor, it is recommended to use sourceTensor.detach().clone() or sourceTensor.detach().clone().requires_grad_(True), rather than torch.tensor(sourceTensor).\n",
      "  Y_test = torch.tensor(Y_test, dtype=torch.float32).view(-1, 1)\n"
     ]
    }
   ],
   "source": [
    "X_train = torch.tensor(X_train, dtype=torch.float32)\n",
    "Y_train = torch.tensor(Y_train, dtype=torch.float32).view(-1, 1)\n",
    "X_test = torch.tensor(X_test, dtype=torch.float32)\n",
    "Y_test = torch.tensor(Y_test, dtype=torch.float32).view(-1, 1)"
   ]
  },
  {
   "cell_type": "code",
   "execution_count": 62,
   "id": "0959f9e2",
   "metadata": {},
   "outputs": [],
   "source": [
    "input_size = int(X_train.shape[2])\n",
    "hidden_size = 100\n",
    "num_layers = 5\n",
    "lr = 0.001\n",
    "batch_size = 32"
   ]
  },
  {
   "cell_type": "code",
   "execution_count": 63,
   "id": "a216fe31",
   "metadata": {},
   "outputs": [],
   "source": [
    "class LSTM(nn.Module):\n",
    "    def __init__(self,input_size,hidden_size,num_layers):\n",
    "        super().__init__()\n",
    "\n",
    "        self.num_layers = num_layers\n",
    "        self.hidden_size = hidden_size\n",
    "        self.num_layers = num_layers\n",
    "        self.lstm_layers = nn.ModuleList()\n",
    "        for i in range(num_layers):\n",
    "            layer_input_size = input_size if i == 0 else hidden_size\n",
    "            self.lstm_layers.append(\n",
    "                nn.LSTM(\n",
    "                    input_size=layer_input_size,\n",
    "                    hidden_size=hidden_size,\n",
    "                    batch_first=True,\n",
    "                    dropout=0.3\n",
    "                )\n",
    "            )\n",
    "        self.linear = nn.Linear(hidden_size, 1)\n",
    "\n",
    "\n",
    "    def forward(self, x):\n",
    "            # batch_size = x.size(0)\n",
    "            for lstm in self.lstm_layers:\n",
    "                x, _ = lstm(x)      # LSTM returns (output, (h_n, c_n))\n",
    "            last_output = x[:, -1, :]    # Take the last timestep's output \n",
    "            return self.linear(last_output)\n"
   ]
  },
  {
   "cell_type": "code",
   "execution_count": 64,
   "id": "2557af5f",
   "metadata": {},
   "outputs": [
    {
     "name": "stderr",
     "output_type": "stream",
     "text": [
      "/opt/anaconda3/envs/ml2-env/lib/python3.10/site-packages/torch/nn/modules/rnn.py:123: UserWarning: dropout option adds dropout after all but last recurrent layer, so non-zero dropout expects num_layers greater than 1, but got dropout=0.3 and num_layers=1\n",
      "  warnings.warn(\n"
     ]
    }
   ],
   "source": [
    "import torch.optim as optim\n",
    "from torch import nn\n",
    "\n",
    "model = LSTM(input_size=input_size,hidden_size=hidden_size,num_layers=num_layers)\n",
    "criterion = nn.MSELoss() \n",
    "optimizer = optim.Adam(model.parameters(), lr=lr) \n"
   ]
  },
  {
   "cell_type": "code",
   "execution_count": 65,
   "id": "1c74adec",
   "metadata": {},
   "outputs": [
    {
     "name": "stdout",
     "output_type": "stream",
     "text": [
      "epoch: 0 , Loss: 0.0008386059559985891\n",
      "epoch: 10 , Loss: 5.989600562366781e-05\n",
      "epoch: 20 , Loss: 2.518868655083584e-05\n",
      "epoch: 30 , Loss: 1.5514735433670296e-05\n",
      "epoch: 40 , Loss: 1.0089184808010769e-05\n",
      "epoch: 50 , Loss: 1.0593462095537282e-05\n",
      "epoch: 60 , Loss: 1.0906634840078756e-05\n",
      "epoch: 70 , Loss: 9.169250664014656e-06\n",
      "epoch: 80 , Loss: 9.549827330381042e-06\n",
      "epoch: 90 , Loss: 9.006460789929736e-06\n"
     ]
    }
   ],
   "source": [
    "num_epochs = 100\n",
    "for epoch in range(num_epochs):\n",
    "    model.train()\n",
    "    permutation = torch.randperm(X_train.size(0))\n",
    "    epoch_loss = 0.0\n",
    "\n",
    "    for i in range(0, X_train.size(0), batch_size):\n",
    "        indices = permutation[i:i+batch_size]\n",
    "        batch_x = X_train[indices]\n",
    "        batch_y = Y_train[indices]\n",
    "\n",
    "        optimizer.zero_grad()\n",
    "        outputs = model(batch_x)\n",
    "        loss = criterion(outputs, batch_y)\n",
    "        loss.backward()\n",
    "        optimizer.step()\n",
    "        epoch_loss += loss.item()\n",
    "\n",
    "   \n",
    "    if epoch % 10 == 0:\n",
    "        print(f\"epoch: {epoch} , Loss: {epoch_loss/len(X_train)}\")\n",
    "\n",
    "# Evaluation\n",
    "model.eval()\n",
    "with torch.no_grad():\n",
    "    predicted = model(X_test).numpy()"
   ]
  },
  {
   "cell_type": "code",
   "execution_count": 66,
   "id": "d2a80c4d",
   "metadata": {},
   "outputs": [],
   "source": [
    "model.eval()\n",
    "with torch.no_grad():\n",
    "    y_pred_scaled = model(X_test)\n",
    "    y_pred = y_pred_scaled.detach().numpy()\n",
    "\n",
    "    y_pred_actual = scaler.inverse_transform(y_pred)\n",
    "\n",
    "    # Optional: do the same for the ground truth to calculate MSE or plot\n",
    "    y_test_actual = scaler.inverse_transform(Y_test.numpy())\n"
   ]
  },
  {
   "cell_type": "code",
   "execution_count": 67,
   "id": "6edc438a",
   "metadata": {},
   "outputs": [
    {
     "data": {
      "image/png": "[encoded data removed]",
      "text/plain": [
       "<Figure size 800x600 with 1 Axes>"
      ]
     },
     "metadata": {},
     "output_type": "display_data"
    }
   ],
   "source": [
    "plt.figure(figsize=(8, 6))\n",
    "plt.plot(y_test_actual, label='Actual', color='blue')\n",
    "plt.plot(y_pred_actual, label='Predicted', color='orange')\n",
    "plt.title('AAPL Stock Price Prediction')\n",
    "plt.xlabel('Days')\n",
    "plt.ylabel('Price')\n",
    "plt.legend()\n",
    "plt.grid(True)\n",
    "plt.tight_layout()\n",
    "plt.show()"
   ]
  },
  {
   "cell_type": "code",
   "execution_count": 68,
   "id": "f42a1645",
   "metadata": {},
   "outputs": [
    {
     "name": "stdout",
     "output_type": "stream",
     "text": [
      "Predicted next day's price: $212.02\n"
     ]
    },
    {
     "name": "stderr",
     "output_type": "stream",
     "text": [
      "/var/folders/wq/n2q2m9w17lg_p99b5c2yc2dm0000gn/T/ipykernel_82146/58598884.py:1: UserWarning: To copy construct from a tensor, it is recommended to use sourceTensor.detach().clone() or sourceTensor.detach().clone().requires_grad_(True), rather than torch.tensor(sourceTensor).\n",
      "  last_20_days = torch.tensor(Data_scaled[-block_size:], dtype=torch.float32).view(1, block_size, 1)\n"
     ]
    }
   ],
   "source": [
    "last_20_days = torch.tensor(Data_scaled[-block_size:], dtype=torch.float32).view(1, block_size, 1)\n",
    "\n",
    "model.eval()\n",
    "with torch.no_grad():\n",
    "    next_pred = model(last_20_days).item()\n",
    "\n",
    "next_price = scaler.inverse_transform([[next_pred]])\n",
    "print(f\"Predicted next day's price: ${next_price[0][0]:.2f}\")\n"
   ]
  }
 ],
 "metadata": {
  "kernelspec": {
   "display_name": "ml2-env",
   "language": "python",
   "name": "python3"
  },
  "language_info": {
   "codemirror_mode": {
    "name": "ipython",
    "version": 3
   },
   "file_extension": ".py",
   "mimetype": "text/x-python",
   "name": "python",
   "nbconvert_exporter": "python",
   "pygments_lexer": "ipython3",
   "version": "3.10.18"
  }
 },
 "nbformat": 4,
 "nbformat_minor": 5
}
